{
 "cells": [
  {
   "cell_type": "markdown",
   "id": "cb6e165e-b0b6-4e2e-8029-170c27f0b5c4",
   "metadata": {},
   "source": [
    "Q1. Explain why we have to use the Exception class while creating a Custom Exception.\n",
    "\n",
    "Ans:\n",
    "\n",
    "    Note: Here Exception class refers to the base class for all the exceptions.\n",
    "\n",
    "Using the Exception class as the base class for custom exceptions in Python is a common practice because it allows your custom exceptions to inherit essential behaviors and properties from the base Exception class. This inheritance includes attributes and methods that are integral to proper exception handling and error reporting.\n",
    "\n",
    "Here's why it's beneficial to use the Exception class as the base class:\n",
    "\n",
    "Consistency: By inheriting from Exception, your custom exceptions adhere to the standard Python exception hierarchy, making your code more consistent and predictable to other developers.\n",
    "\n",
    "Compatibility: Python's exception handling mechanisms are built around the Exception class, so using it ensures compatibility with the language's exception-handling constructs like try, except, and finally.\n",
    "\n",
    "Exception Handling: The base Exception class provides methods like __str__ and __repr__ for generating error messages, which makes it easier to provide meaningful error messages when your custom exception is raised.\n",
    "\n",
    "Error Reporting: Custom exceptions that inherit from Exception can be caught in the same way as built-in exceptions, allowing you to handle them consistently with standard error-handling techniques.\n",
    "\n",
    "Here's an example of a custom exception that inherits from Exception:\n",
    "class MyCustomError(Exception):\n",
    "    def __init__(self, message):\n",
    "        self.message = message\n",
    "\n",
    "try:\n",
    "    raise MyCustomError(\"This is a custom exception\")\n",
    "except MyCustomError as e:\n",
    "    print(f\"Caught custom exception: {e.message}\")\n"
   ]
  },
  {
   "cell_type": "markdown",
   "id": "13970bf3-aa4b-4d3a-b9ad-4be0ee543814",
   "metadata": {},
   "source": [
    "Q2. Write a Python program to print Python Exception Hierarchy.\n",
    "Ans:\n",
    "    \n",
    "You can print the Python Exception Hierarchy by accessing the __bases__ attribute of the Exception class. Here's a program to do that:\n",
    "def print_exception_hierarchy(exception_class, indent=0):\n",
    "    print(\" \" * indent + exception_class.__name__)\n",
    "    for base in exception_class.__bases__:\n",
    "        print_exception_hierarchy(base, indent + 2)\n",
    "\n",
    "# Start from the base Exception class\n",
    "print_exception_hierarchy(Exception)\n",
    "\n",
    "This program defines a recursive function print_exception_hierarchy that prints the exception hierarchy starting from the base Exception class. It uses indentation to represent the hierarchy visually.\n"
   ]
  },
  {
   "cell_type": "code",
   "execution_count": 7,
   "id": "3c95dd1f-6c86-402e-a873-4a07e80fbf84",
   "metadata": {},
   "outputs": [
    {
     "ename": "SyntaxError",
     "evalue": "invalid decimal literal (766651455.py, line 8)",
     "output_type": "error",
     "traceback": [
      "\u001b[0;36m  Cell \u001b[0;32mIn[7], line 8\u001b[0;36m\u001b[0m\n\u001b[0;31m    1.ZeroDivisionError: Raised when division or modulo operation is performed with a divisor of zero.\u001b[0m\n\u001b[0m     ^\u001b[0m\n\u001b[0;31mSyntaxError\u001b[0m\u001b[0;31m:\u001b[0m invalid decimal literal\n"
     ]
    }
   ],
   "source": [
    "Q3. What errors are defined in the ArithmeticError class? Explain any two with an example.\n",
    "\n",
    "Ans:\n",
    "    \n",
    "\n",
    "The ArithmeticError class in Python is a base class for arithmetic-related exceptions. Some errors defined in the ArithmeticError class include:\n",
    "\n",
    "1.ZeroDivisionError: Raised when division or modulo operation is performed with a divisor of zero.\n",
    "Example:try:\n",
    "    result = 10 / 0\n",
    "except ZeroDivisionError as e:\n",
    "    print(f\"Error: {e}\")\n",
    "2.OverflowError: Raised when an arithmetic operation exceeds the limits of the numeric type.\n",
    "Example:try:\n",
    "    result = 2 ** 1000  # This will raise an OverflowError\n",
    "except OverflowError as e:\n",
    "    print(f\"Error: {e}\")\n"
   ]
  },
  {
   "cell_type": "markdown",
   "id": "3c783379-8928-4f20-82e9-32e7ad816519",
   "metadata": {},
   "source": [
    "Q4. Why is the LookupError class used? Explain with examples KeyError and IndexError.\n",
    "\n",
    "Ans:\n",
    "\n",
    "The LookupError class is a base class for exceptions related to container lookups, such as dictionaries, lists, and tuples. It is used to catch errors that occur when trying to access elements that do not exist within a container. Two common exceptions under LookupError are KeyError and IndexError.\n",
    "\n",
    "KeyError: Raised when trying to access a dictionary key that does not exist.\n",
    "Example:my_dict = {'a': 1, 'b': 2}\n",
    "try:\n",
    "    value = my_dict['c']  # This will raise a KeyError\n",
    "except KeyError as e:\n",
    "    print(f\"Error: {e}\")\n",
    "\n",
    "    2.IndexError: Raised when trying to access an index in a sequence (e.g., list or tuple) that is out of range.\n",
    "Example:my_list = [1, 2, 3]\n",
    "try:\n",
    "    item = my_list[3]  # This will raise an IndexError\n",
    "except IndexError as e:\n",
    "    print(f\"Error: {e}\")\n"
   ]
  },
  {
   "cell_type": "markdown",
   "id": "85bcd3c3-4d38-44ed-80c0-d9e7ffd665c4",
   "metadata": {},
   "source": [
    "Q5. Explain ImportError. What is ModuleNotFoundError?\n",
    "\n",
    "Ans:\n",
    "    \n",
    "\n",
    "ImportError: ImportError is an exception raised when an import statement cannot locate the specified module or cannot load it due to various reasons. This can occur when the module is missing, has a syntax error, or encounters an issue during execution.\n",
    "Example:try:\n",
    "    import non_existent_module  # This will raise an ImportError\n",
    "except ImportError as e:\n",
    "    print(f\"Error: {e}\")\n",
    "    \n",
    "2.ModuleNotFoundError: ModuleNotFoundError is a subclass of ImportError introduced in Python 3.6. It specifically indicates that the module being imported could not be found.\n",
    "Example:try:\n",
    "    import non_existent_module  # This will raise a ModuleNotFoundError (Python 3.6+)\n",
    "except ModuleNotFoundError as e:\n",
    "    print(f\"Error: {e}\")\n",
    "    \n"
   ]
  },
  {
   "cell_type": "code",
   "execution_count": null,
   "id": "52f5b676-c3c3-40f0-a742-bb0fc955ba66",
   "metadata": {},
   "outputs": [],
   "source": []
  }
 ],
 "metadata": {
  "kernelspec": {
   "display_name": "Python 3 (ipykernel)",
   "language": "python",
   "name": "python3"
  },
  "language_info": {
   "codemirror_mode": {
    "name": "ipython",
    "version": 3
   },
   "file_extension": ".py",
   "mimetype": "text/x-python",
   "name": "python",
   "nbconvert_exporter": "python",
   "pygments_lexer": "ipython3",
   "version": "3.10.8"
  }
 },
 "nbformat": 4,
 "nbformat_minor": 5
}
